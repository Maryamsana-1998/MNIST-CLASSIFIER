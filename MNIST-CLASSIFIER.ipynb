{
 "cells": [
  {
   "cell_type": "code",
   "execution_count": 2,
   "metadata": {},
   "outputs": [
    {
     "name": "stderr",
     "output_type": "stream",
     "text": [
      "Using TensorFlow backend.\n"
     ]
    }
   ],
   "source": [
    "# import packages\n",
    "from __future__ import print_function\n",
    "import keras\n",
    "from keras.datasets import mnist\n",
    "from keras.models import Sequential\n",
    "from keras.layers import Dense,Flatten,Dropout,Conv2D,MaxPooling2D\n",
    "from keras import backend as K\n",
    "from keras import optimizers\n",
    "import matplotlib.pyplot as plt"
   ]
  },
  {
   "cell_type": "code",
   "execution_count": 3,
   "metadata": {},
   "outputs": [
    {
     "name": "stdout",
     "output_type": "stream",
     "text": [
      "(60000, 28, 28)\n"
     ]
    }
   ],
   "source": [
    "#dataset \n",
    "img_r,img_c=28,28\n",
    "(x_train,y_train),(x_test,y_test)=mnist.load_data()\n",
    "print(x_train.shape)\n",
    "x_vis=x_train\n",
    "\n",
    "if K.image_data_format()=='channels_first':\n",
    "        x_train=x_train.reshape(x_train.shape[0],1,img_r,img_c)\n",
    "        x_test=x_test.reshape(x_test.shape[0],1,img_r,img_c)\n",
    "        input_shape=(1,img_r,img_c)\n",
    "else :\n",
    "    x_train=x_train.reshape(x_train.shape[0],img_r,img_c,1)\n",
    "    x_test=x_test.reshape(x_test.shape[0],img_r,img_c,1)\n",
    "    input_shape=(img_r,img_c,1)\n",
    "\n",
    "x_train=x_train.astype('float32')\n",
    "x_test=x_test.astype('float32')\n",
    "x_train/=255\n",
    "x_test/=255\n",
    "y_train=keras.utils.to_categorical(y_train,10)\n",
    "y_test=keras.utils.to_categorical(y_test,10)"
   ]
  },
  {
   "cell_type": "code",
   "execution_count": 6,
   "metadata": {},
   "outputs": [
    {
     "data": {
      "text/plain": [
       "<function matplotlib.pyplot.show(*args, **kw)>"
      ]
     },
     "execution_count": 6,
     "metadata": {},
     "output_type": "execute_result"
    },
    {
     "data": {
      "image/png": "[encoded data removed]",
      "text/plain": [
       "<Figure size 432x288 with 2 Axes>"
      ]
     },
     "metadata": {
      "needs_background": "light"
     },
     "output_type": "display_data"
    }
   ],
   "source": [
    "#visualize data\n",
    "x_vis=x_vis/255.0\n",
    "plt.figure()\n",
    "plt.imshow(x_vis[0])\n",
    "plt.colorbar()\n",
    "plt.grid(False)\n",
    "plt.show"
   ]
  },
  {
   "cell_type": "code",
   "execution_count": 9,
   "metadata": {},
   "outputs": [
    {
     "name": "stdout",
     "output_type": "stream",
     "text": [
      "Train on 60000 samples, validate on 10000 samples\n",
      "Epoch 1/12\n",
      "60000/60000 [==============================] - 41s 678us/step - loss: 0.1847 - acc: 0.9433 - val_loss: 0.0413 - val_acc: 0.9859\n",
      "Epoch 2/12\n",
      "60000/60000 [==============================] - 39s 654us/step - loss: 0.0605 - acc: 0.9813 - val_loss: 0.0300 - val_acc: 0.9894\n",
      "Epoch 3/12\n",
      "60000/60000 [==============================] - 38s 637us/step - loss: 0.0436 - acc: 0.9863 - val_loss: 0.0309 - val_acc: 0.9896\n",
      "Epoch 4/12\n",
      "60000/60000 [==============================] - 36s 598us/step - loss: 0.0365 - acc: 0.9877 - val_loss: 0.0230 - val_acc: 0.9931\n",
      "Epoch 5/12\n",
      "60000/60000 [==============================] - 40s 665us/step - loss: 0.0308 - acc: 0.9905 - val_loss: 0.0309 - val_acc: 0.9906\n",
      "Epoch 6/12\n",
      "60000/60000 [==============================] - 40s 673us/step - loss: 0.0278 - acc: 0.9911 - val_loss: 0.0286 - val_acc: 0.9917\n",
      "Epoch 7/12\n",
      "60000/60000 [==============================] - 40s 668us/step - loss: 0.0267 - acc: 0.9915 - val_loss: 0.0222 - val_acc: 0.9931\n",
      "Epoch 8/12\n",
      "60000/60000 [==============================] - 35s 586us/step - loss: 0.0228 - acc: 0.9926 - val_loss: 0.0214 - val_acc: 0.9924\n",
      "Epoch 9/12\n",
      "60000/60000 [==============================] - 39s 653us/step - loss: 0.0211 - acc: 0.9930 - val_loss: 0.0239 - val_acc: 0.9922\n",
      "Epoch 10/12\n",
      "60000/60000 [==============================] - 43s 715us/step - loss: 0.0179 - acc: 0.9941 - val_loss: 0.0270 - val_acc: 0.9912\n",
      "Epoch 11/12\n",
      "60000/60000 [==============================] - 44s 738us/step - loss: 0.0182 - acc: 0.9941 - val_loss: 0.0204 - val_acc: 0.9933\n",
      "Epoch 12/12\n",
      "60000/60000 [==============================] - 44s 735us/step - loss: 0.0156 - acc: 0.9953 - val_loss: 0.0225 - val_acc: 0.9938\n"
     ]
    }
   ],
   "source": [
    "# model1A\n",
    "b_size=64\n",
    "epochs=12\n",
    "model=Sequential()\n",
    "model.add(Conv2D(16,kernel_size=(3,3),activation='relu',input_shape=input_shape))\n",
    "model.add(Conv2D(32,(3,3),activation='relu'))\n",
    "model.add(MaxPooling2D(pool_size=(2,2)))\n",
    "model.add(Conv2D(32,(3,3),activation='relu',))\n",
    "model.add(Dropout(0.25))\n",
    "model.add(Conv2D(64,(3,3),activation='relu'))\n",
    "model.add(Dropout(0.5))\n",
    "model.add(Flatten())\n",
    "model.add(Dense(64,activation='relu'))\n",
    "model.add(Dense(10,activation='softmax'))\n",
    "adam=keras.optimizers.Adam(lr=0.001, beta_1=0.9, beta_2=0.999, epsilon=None, decay=0.0, amsgrad=False)\n",
    "model.compile(loss=keras.losses.categorical_crossentropy,optimizer=adam,metrics=['accuracy'])\n",
    "history=model.fit(x_train,y_train,batch_size=b_size,epochs=epochs,verbose=1,validation_data=(x_test,y_test))\n",
    "error=model.evaluate(x_test,y_test,verbose=0)"
   ]
  },
  {
   "cell_type": "code",
   "execution_count": 10,
   "metadata": {},
   "outputs": [
    {
     "data": {
      "image/png": "[encoded data removed]",
      "text/plain": [
       "<Figure size 432x288 with 1 Axes>"
      ]
     },
     "metadata": {
      "needs_background": "light"
     },
     "output_type": "display_data"
    }
   ],
   "source": [
    "#accuracy and loss history visualization\n",
    "#print(history.history.keys())\n",
    "plt.plot(history.history['acc'])\n",
    "plt.plot(history.history['val_acc'])\n",
    "plt.title('Model accuracy')\n",
    "plt.ylabel('Accuracy')\n",
    "plt.xlabel('Epochs')\n",
    "plt.legend(['train','test'],loc='upper left')\n",
    "plt.show()"
   ]
  },
  {
   "cell_type": "code",
   "execution_count": 6,
   "metadata": {},
   "outputs": [
    {
     "name": "stdout",
     "output_type": "stream",
     "text": [
      "whyy\n"
     ]
    }
   ],
   "source": [
    "print('whyy')"
   ]
  },
  {
   "cell_type": "code",
   "execution_count": null,
   "metadata": {},
   "outputs": [],
   "source": []
  }
 ],
 "metadata": {
  "kernelspec": {
   "display_name": "Python 3",
   "language": "python",
   "name": "python3"
  },
  "language_info": {
   "codemirror_mode": {
    "name": "ipython",
    "version": 3
   },
   "file_extension": ".py",
   "mimetype": "text/x-python",
   "name": "python",
   "nbconvert_exporter": "python",
   "pygments_lexer": "ipython3",
   "version": "3.7.3"
  }
 },
 "nbformat": 4,
 "nbformat_minor": 2
}
